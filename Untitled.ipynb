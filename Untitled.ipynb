{
 "cells": [
  {
   "cell_type": "code",
   "execution_count": 3,
   "id": "d0a3e006",
   "metadata": {},
   "outputs": [
    {
     "data": {
      "text/plain": [
       "<pyrealsense2.pyrealsense2.pipeline_profile at 0x7ff0985d3af0>"
      ]
     },
     "execution_count": 3,
     "metadata": {},
     "output_type": "execute_result"
    }
   ],
   "source": [
    "import cv2\n",
    "import numpy as np\n",
    "import pyrealsense2 as rs\n",
    "\n",
    "# Initialize depth camera pipeline\n",
    "pipeline = rs.pipeline()\n",
    "config = rs.config()\n",
    "config.enable_device_from_file('/media/aya/Naomi-external/mice_data/20231103_155523.bag')\n",
    "\n",
    "# Start the pipeline\n",
    "pipeline.start(config)"
   ]
  },
  {
   "cell_type": "code",
   "execution_count": 4,
   "id": "ad90bc64",
   "metadata": {},
   "outputs": [
    {
     "ename": "NameError",
     "evalue": "name 'preprocess' is not defined",
     "output_type": "error",
     "traceback": [
      "\u001b[0;31m---------------------------------------------------------------------------\u001b[0m",
      "\u001b[0;31mNameError\u001b[0m                                 Traceback (most recent call last)",
      "Cell \u001b[0;32mIn[4], line 31\u001b[0m\n\u001b[1;32m     28\u001b[0m         pipeline\u001b[38;5;241m.\u001b[39mstop()\n\u001b[1;32m     30\u001b[0m \u001b[38;5;66;03m# Start tracking\u001b[39;00m\n\u001b[0;32m---> 31\u001b[0m track_mice()\n",
      "Cell \u001b[0;32mIn[4], line 13\u001b[0m, in \u001b[0;36mtrack_mice\u001b[0;34m()\u001b[0m\n\u001b[1;32m     10\u001b[0m depth_image \u001b[38;5;241m=\u001b[39m np\u001b[38;5;241m.\u001b[39masanyarray(depth_frame\u001b[38;5;241m.\u001b[39mget_data())\n\u001b[1;32m     12\u001b[0m \u001b[38;5;66;03m# Preprocess the depth image\u001b[39;00m\n\u001b[0;32m---> 13\u001b[0m preprocessed_image \u001b[38;5;241m=\u001b[39m preprocess(depth_image)\n\u001b[1;32m     15\u001b[0m \u001b[38;5;66;03m# Detect and track mice in the preprocessed image\u001b[39;00m\n\u001b[1;32m     16\u001b[0m mice_tracks \u001b[38;5;241m=\u001b[39m track(preprocessed_image)\n",
      "\u001b[0;31mNameError\u001b[0m: name 'preprocess' is not defined"
     ]
    }
   ],
   "source": [
    "\n",
    "# Function to track mice\n",
    "def track_mice():\n",
    "    try:\n",
    "        while True:\n",
    "            frames = pipeline.wait_for_frames()\n",
    "            depth_frame = frames.get_depth_frame()\n",
    "            if not depth_frame:\n",
    "                continue\n",
    "            \n",
    "            depth_image = np.asanyarray(depth_frame.get_data())\n",
    "            \n",
    "            # Preprocess the depth image\n",
    "            preprocessed_image = preprocess(depth_image)\n",
    "            \n",
    "            # Detect and track mice in the preprocessed image\n",
    "            mice_tracks = track(preprocessed_image)\n",
    "            \n",
    "            # Align the tracking data if necessary\n",
    "            aligned_tracks = align(mice_tracks)\n",
    "            \n",
    "            # Plot the tracking results\n",
    "            plot(aligned_tracks)\n",
    "            \n",
    "            # Break out of the loop if you want to stop after one frame\n",
    "            break\n",
    "\n",
    "    finally:\n",
    "        pipeline.stop()\n",
    "\n",
    "# Start tracking\n",
    "track_mice()\n"
   ]
  },
  {
   "cell_type": "code",
   "execution_count": null,
   "id": "bb6123f8",
   "metadata": {},
   "outputs": [],
   "source": [
    "# Function to track mice\n",
    "def track_mice():\n",
    "    try:\n",
    "        while True:\n",
    "            frames = pipeline.wait_for_frames()\n",
    "            depth_frame = frames.get_depth_frame()\n",
    "            if not depth_frame:\n",
    "                continue\n",
    "            \n",
    "            depth_image = np.asanyarray(depth_frame.get_data())\n",
    "            \n",
    "            # Preprocess the depth image\n",
    "            preprocessed_image = preprocess(depth_image)\n",
    "            \n",
    "            # Detect and track mice in the preprocessed image\n",
    "            mice_tracks = track(preprocessed_image)\n",
    "            \n",
    "            # Align the tracking data if necessary\n",
    "            aligned_tracks = align(mice_tracks)\n",
    "            \n",
    "            # Plot the tracking results\n",
    "            plot(aligned_tracks)\n",
    "            \n",
    "            # Break out of the loop if you want to stop after one frame\n",
    "            break\n",
    "\n",
    "    finally:\n",
    "        pipeline.stop()\n",
    "\n",
    "# Start tracking\n",
    "track_mice()\n"
   ]
  },
  {
   "cell_type": "code",
   "execution_count": 12,
   "id": "56da943f",
   "metadata": {},
   "outputs": [
    {
     "ename": "ModuleNotFoundError",
     "evalue": "No module named 'analysis'",
     "output_type": "error",
     "traceback": [
      "\u001b[0;31m---------------------------------------------------------------------------\u001b[0m",
      "\u001b[0;31mModuleNotFoundError\u001b[0m                       Traceback (most recent call last)",
      "Cell \u001b[0;32mIn[12], line 3\u001b[0m\n\u001b[1;32m      1\u001b[0m \u001b[38;5;28;01mimport\u001b[39;00m \u001b[38;5;21;01mnumpy\u001b[39;00m \u001b[38;5;28;01mas\u001b[39;00m \u001b[38;5;21;01mnp\u001b[39;00m\n\u001b[1;32m      2\u001b[0m \u001b[38;5;28;01mimport\u001b[39;00m \u001b[38;5;21;01mpyrealsense2\u001b[39;00m \u001b[38;5;28;01mas\u001b[39;00m \u001b[38;5;21;01mrs\u001b[39;00m\n\u001b[0;32m----> 3\u001b[0m \u001b[38;5;28;01mfrom\u001b[39;00m \u001b[38;5;21;01manalysis\u001b[39;00m\u001b[38;5;21;01m.\u001b[39;00m\u001b[38;5;21;01mutils\u001b[39;00m \u001b[38;5;28;01mimport\u001b[39;00m preprocess_depth_image, detect_mice, track_segments_across_frames, display_tracking_result\n\u001b[1;32m      5\u001b[0m \u001b[38;5;66;03m# Initialize depth camera pipeline\u001b[39;00m\n\u001b[1;32m      6\u001b[0m pipeline \u001b[38;5;241m=\u001b[39m rs\u001b[38;5;241m.\u001b[39mpipeline()\n",
      "\u001b[0;31mModuleNotFoundError\u001b[0m: No module named 'analysis'"
     ]
    }
   ],
   "source": [
    "import numpy as np\n",
    "import pyrealsense2 as rs\n",
    "from analysis.utils import preprocess_depth_image, detect_mice, track_segments_across_frames, display_tracking_result\n",
    "\n",
    "# Initialize depth camera pipeline\n",
    "pipeline = rs.pipeline()\n",
    "config = rs.config()\n",
    "config.enable_device_from_file('/media/aya/Naomi-external/mice_data/20231103_155523.bag')\n",
    "\n",
    "# Start the pipeline\n",
    "pipeline.start(config)\n",
    "\n",
    "# Function to track mice\n",
    "def track_mice():\n",
    "    try:\n",
    "        while True:\n",
    "            frames = pipeline.wait_for_frames()\n",
    "            depth_frame = frames.get_depth_frame()\n",
    "            if not depth_frame:\n",
    "                continue\n",
    "            \n",
    "            depth_image = np.asanyarray(depth_frame.get_data())\n",
    "            \n",
    "            # Preprocess the depth image\n",
    "            preprocessed_image = preprocess_depth_image(depth_image)\n",
    "            \n",
    "            # Detect and track mice in the preprocessed image\n",
    "            mice_segments = detect_mice(preprocessed_image)\n",
    "            \n",
    "            # Track the segmented mice across frames\n",
    "            mice_tracks = track_segments_across_frames(mice_segments)\n",
    "            \n",
    "            # Display the tracking result\n",
    "            display_tracking_result(mice_tracks)\n",
    "            \n",
    "            # Optionally, break out of the loop if you only want to process a single frame\n",
    "            # break\n",
    "\n",
    "    finally:\n",
    "        # Stop the pipeline\n",
    "        pipeline.stop()\n",
    "\n",
    "# Start tracking\n",
    "track_mice()\n"
   ]
  },
  {
   "cell_type": "code",
   "execution_count": 10,
   "id": "61ee9550",
   "metadata": {},
   "outputs": [
    {
     "name": "stdout",
     "output_type": "stream",
     "text": [
      "/bin/bash: /home/aya/anaconda3/envs/myp/lib/python3.11/site-packages/cv2/../../../../lib/libtinfo.so.6: no version information available (required by /bin/bash)\r\n",
      " \u001b[0m\u001b[01;34m3DDD_social_mouse_tracker\u001b[0m/   \u001b[01;34mlibrealsense\u001b[0m/\r\n",
      " aya_camera_steps.txt         RealSense_Multiple_Camera_WhitePaper.pdf\r\n",
      " aya_instlattion_steps.txt   's41467-022-28153-7 ja.pdf'\r\n",
      " aya_recording_steps.txt      s41467-022-28153-7.pdf\r\n",
      " \u001b[01;32minstall_packages.sh\u001b[0m*         Untitled.ipynb\r\n"
     ]
    }
   ],
   "source": [
    "ls"
   ]
  },
  {
   "cell_type": "code",
   "execution_count": 11,
   "id": "58e861c0",
   "metadata": {},
   "outputs": [
    {
     "name": "stdout",
     "output_type": "stream",
     "text": [
      "/bin/bash: /home/aya/anaconda3/envs/myp/lib/python3.11/site-packages/cv2/../../../../lib/libtinfo.so.6: no version information available (required by /bin/bash)\r\n",
      "\u001b[0m\u001b[01;34manalysis\u001b[0m/            \u001b[01;34mread_me_figs\u001b[0m/       README_recording.md\r\n",
      "LICENSE              README_install.md   README_recording.pdf\r\n",
      "README_analysis.md   README_install.pdf  \u001b[01;34mrecording\u001b[0m/\r\n",
      "README_analysis.pdf  README.md\r\n"
     ]
    }
   ],
   "source": [
    "ls 3DDD_social_mouse_tracker/"
   ]
  },
  {
   "cell_type": "code",
   "execution_count": null,
   "id": "d85f07ee",
   "metadata": {},
   "outputs": [],
   "source": []
  }
 ],
 "metadata": {
  "kernelspec": {
   "display_name": "Python 3 (ipykernel)",
   "language": "python",
   "name": "python3"
  },
  "language_info": {
   "codemirror_mode": {
    "name": "ipython",
    "version": 3
   },
   "file_extension": ".py",
   "mimetype": "text/x-python",
   "name": "python",
   "nbconvert_exporter": "python",
   "pygments_lexer": "ipython3",
   "version": "3.11.5"
  }
 },
 "nbformat": 4,
 "nbformat_minor": 5
}
