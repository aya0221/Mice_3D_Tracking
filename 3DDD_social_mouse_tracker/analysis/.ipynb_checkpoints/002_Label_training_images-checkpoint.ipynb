{
 "cells": [
  {
   "cell_type": "markdown",
   "metadata": {},
   "source": [
    "Annotate using DeepPoseKit\n",
    "https://github.com/jgraving/DeepPoseKit/blob/master/examples/step2_annotate_data.ipynb"
   ]
  },
  {
   "cell_type": "code",
   "execution_count": 1,
   "metadata": {},
   "outputs": [],
   "source": [
    "import numpy as np\n",
    "import cv2\n",
    "import h5py\n",
    "import matplotlib.pyplot as plt\n",
    "import sys\n",
    "import tqdm\n",
    "import glob\n",
    "import itertools\n",
    "import os\n",
    "from os.path import expanduser\n",
    "\n",
    "sys.path.append(\"/workspace/3DDD_social_mouse_tracker/analysis/chrelli_annotator\")\n",
    "from dpk_annotator import Annotator\n",
    "home = expanduser(\"~\")"
   ]
  },
  {
   "cell_type": "code",
   "execution_count": 2,
   "metadata": {},
   "outputs": [
    {
     "name": "stdout",
     "output_type": "stream",
     "text": [
      "skeleton_v2_mice.csv\r\n"
     ]
    }
   ],
   "source": [
    "ls /workspace/3DDD_social_mouse_tracker/analysis/training_sets/"
   ]
  },
  {
   "cell_type": "code",
   "execution_count": 2,
   "metadata": {},
   "outputs": [
    {
     "name": "stdout",
     "output_type": "stream",
     "text": [
      "Training Sets: ['/data/training/mouse_training_set.h5']\n",
      "Skeletons: ['/workspace/3DDD_social_mouse_tracker/analysis/training_sets/skeleton_v2_mice.csv']\n"
     ]
    }
   ],
   "source": [
    "# Define the path to your training set\n",
    "training_sets = glob.glob('/data/training/*.h5') # mouse_training_set.h5\n",
    "skeletons = glob.glob('/workspace/3DDD_social_mouse_tracker/analysis/training_sets/*skeleton_v2*')\n",
    "\n",
    "# Ensure that the training set and skeleton files are found\n",
    "if not training_sets or not skeletons:\n",
    "    print(\"Training sets or skeletons not found. Check the paths.\")\n",
    "    exit(1)\n",
    "\n",
    "# Print the paths for verification\n",
    "print(\"Training Sets:\", training_sets)\n",
    "print(\"Skeletons:\", skeletons)"
   ]
  },
  {
   "cell_type": "code",
   "execution_count": null,
   "metadata": {},
   "outputs": [],
   "source": [
    "app = Annotator(datapath=training_sets[0],\n",
    "                dataset='c_images',\n",
    "                skeleton=skeletons[0],\n",
    "                shuffle_colors=False,\n",
    "                text_scale=.3\n",
    "               )"
   ]
  },
  {
   "cell_type": "code",
   "execution_count": null,
   "metadata": {},
   "outputs": [],
   "source": []
  },
  {
   "cell_type": "code",
   "execution_count": null,
   "metadata": {},
   "outputs": [],
   "source": []
  },
  {
   "cell_type": "code",
   "execution_count": null,
   "metadata": {},
   "outputs": [],
   "source": []
  },
  {
   "cell_type": "code",
   "execution_count": 34,
   "metadata": {
    "scrolled": true
   },
   "outputs": [],
   "source": [
    "import numpy as np\n",
    "import cv2\n",
    "import h5py\n",
    "import matplotlib.pyplot as plt\n",
    "from deepposekit import VideoReader, KMeansSampler\n",
    "import os\n",
    "import sys\n",
    "sys.path.append(\"/workspace/3DDD_social_mouse_tracker/analysis/chrelli_annotator\") \n",
    "from dpk_annotator import Annotator\n",
    "\n",
    "import tqdm\n",
    "import glob\n",
    "import itertools\n",
    "\n",
    "# from os.path import expanduser\n",
    "# home = expanduser(\"~\")\n",
    "\n",
    "# workspace_dir = '/workspace/3DDD_social_mouse_tracker/analysis'"
   ]
  },
  {
   "cell_type": "markdown",
   "metadata": {},
   "source": [
    "# Point to the training images, label using the 'DeepPoseKit' annotator (Graving et al. 2019)"
   ]
  },
  {
   "cell_type": "code",
   "execution_count": 2,
   "metadata": {},
   "outputs": [
    {
     "name": "stdout",
     "output_type": "stream",
     "text": [
      "['training_sets/mouse_training_set.h5']\n",
      "['training_sets/skeleton_v2_mice.csv']\n"
     ]
    }
   ],
   "source": [
    "# # The skeleton file specifies the affinity fields (nose-to-tail, ear-to-nose, etc) \n",
    "# # between the clicked keypoints (nose, ears, tail, implant).\n",
    "# color_frames_dir = '/data/color_depth/color_frames'\n",
    "# h5_file_path = color_frames_dir + '/mouse_training_set.h5'\n",
    "\n",
    "\n",
    "# training_sets = glob.glob('training_sets' + '/*.h5')\n",
    "# skeletons = glob.glob('training_sets' + '/*skeleton_v2*')\n",
    "\n",
    "# print(training_sets)\n",
    "# print(skeletons)"
   ]
  },
  {
   "cell_type": "code",
   "execution_count": 4,
   "metadata": {},
   "outputs": [
    {
     "name": "stdout",
     "output_type": "stream",
     "text": [
      "Saved\n",
      "Saved\n"
     ]
    }
   ],
   "source": [
    "\n",
    "# app = Annotator(datapath=training_sets[0],\n",
    "#                 dataset='c_images',\n",
    "#                 skeleton=skeletons[0],\n",
    "#                 shuffle_colors=False,\n",
    "#                 text_scale=.3)\n",
    "\n",
    "# app.run()"
   ]
  },
  {
   "cell_type": "code",
   "execution_count": 39,
   "metadata": {},
   "outputs": [
    {
     "name": "stdout",
     "output_type": "stream",
     "text": [
      "[]\n",
      "[]\n"
     ]
    }
   ],
   "source": [
    "# Directory where the training set files are stored\n",
    "# Modify the path if your training files are stored in a different directory\n",
    "color_frames_dir = '/data/color_depth/color_frames'\n",
    "training_files_dir = color_frames_dir + '/training'\n",
    "os.makedirs(training_files_dir, exist_ok=True)\n",
    "\n",
    "# Glob pattern to find all .h5 files in the training files directory\n",
    "# This will include all files ending with '.h5' in the specified directory\n",
    "training_sets = glob.glob(training_files_dir + '/*.h5')\n",
    "\n",
    "\n",
    "# Glob pattern to find all skeleton files in the training files directory\n",
    "# Assumes that skeleton files have 'skeleton_v2' in their filename\n",
    "skeletons = glob.glob(training_files_dir + '/*skeleton_v2*')\n",
    "\n",
    "# Print the paths of the training sets and skeletons found\n",
    "# This is for verification to ensure the correct files are being used\n",
    "print(training_sets)\n",
    "print(skeletons)\n"
   ]
  },
  {
   "cell_type": "code",
   "execution_count": null,
   "metadata": {},
   "outputs": [],
   "source": [
    "\n",
    "# Check if training sets and skeletons are found before proceeding\n",
    "if training_sets and skeletons:\n",
    "    # Annotator application setup\n",
    "    # datapath: Path to the HDF5 (.h5) file containing the training set\n",
    "    # dataset: Name of the dataset in the HDF5 file, here assumed to be 'c_images'\n",
    "    # skeleton: Path to the skeleton file defining the keypoints and their connections\n",
    "    # shuffle_colors: Flag to shuffle colors of keypoints, set to False for consistent colors\n",
    "    # text_scale: Scaling factor for text displayed in the annotator, for readability\n",
    "    app = Annotator(datapath=training_sets[0],\n",
    "                    dataset='c_images',\n",
    "                    skeleton=skeletons[0],\n",
    "                    shuffle_colors=False,\n",
    "                    text_scale=.3)\n",
    "\n",
    "    # Run the Annotator application\n",
    "    # This opens the GUI for manual annotation of keypoints based on the skeleton\n",
    "    app.run()\n",
    "else:\n",
    "    print(\"Training sets or skeletons not found. Please check the file paths.\")\n"
   ]
  }
 ],
 "metadata": {
  "kernelspec": {
   "display_name": "Python 3 (ipykernel)",
   "language": "python",
   "name": "python3"
  },
  "language_info": {
   "codemirror_mode": {
    "name": "ipython",
    "version": 3
   },
   "file_extension": ".py",
   "mimetype": "text/x-python",
   "name": "python",
   "nbconvert_exporter": "python",
   "pygments_lexer": "ipython3",
   "version": "3.11.5"
  }
 },
 "nbformat": 4,
 "nbformat_minor": 4
}
