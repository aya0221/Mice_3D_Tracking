{
 "cells": [
  {
   "cell_type": "code",
   "execution_count": 2,
   "id": "127b269b",
   "metadata": {},
   "outputs": [
    {
     "ename": "ImportError",
     "evalue": "cannot import name 'detect_mice' from 'analysis.utils' (unknown location)",
     "output_type": "error",
     "traceback": [
      "\u001b[0;31m---------------------------------------------------------------------------\u001b[0m",
      "\u001b[0;31mImportError\u001b[0m                               Traceback (most recent call last)",
      "Cell \u001b[0;32mIn[2], line 3\u001b[0m\n\u001b[1;32m      1\u001b[0m \u001b[38;5;28;01mimport\u001b[39;00m \u001b[38;5;21;01mnumpy\u001b[39;00m \u001b[38;5;28;01mas\u001b[39;00m \u001b[38;5;21;01mnp\u001b[39;00m\n\u001b[1;32m      2\u001b[0m \u001b[38;5;28;01mimport\u001b[39;00m \u001b[38;5;21;01mpyrealsense2\u001b[39;00m \u001b[38;5;28;01mas\u001b[39;00m \u001b[38;5;21;01mrs\u001b[39;00m\n\u001b[0;32m----> 3\u001b[0m \u001b[38;5;28;01mfrom\u001b[39;00m \u001b[38;5;21;01manalysis\u001b[39;00m\u001b[38;5;21;01m.\u001b[39;00m\u001b[38;5;21;01mutils\u001b[39;00m \u001b[38;5;28;01mimport\u001b[39;00m detect_mice, track_segments_across_frames, display_tracking_result\n\u001b[1;32m      4\u001b[0m \u001b[38;5;66;03m# from analysis.utils import preprocess_depth_image, detect_mice, track_segments_across_frames, display_tracking_result\u001b[39;00m\n\u001b[1;32m      5\u001b[0m \n\u001b[1;32m      6\u001b[0m \u001b[38;5;66;03m# Initialize depth camera pipeline\u001b[39;00m\n\u001b[1;32m      7\u001b[0m pipeline \u001b[38;5;241m=\u001b[39m rs\u001b[38;5;241m.\u001b[39mpipeline()\n",
      "\u001b[0;31mImportError\u001b[0m: cannot import name 'detect_mice' from 'analysis.utils' (unknown location)"
     ]
    }
   ],
   "source": [
    "import numpy as np\n",
    "import pyrealsense2 as rs\n",
    "from analysis.utils import detect_mice, track_segments_across_frames, display_tracking_result\n",
    "# from analysis.utils import preprocess_depth_image, detect_mice, track_segments_across_frames, display_tracking_result\n",
    "\n",
    "# Initialize depth camera pipeline\n",
    "pipeline = rs.pipeline()\n",
    "config = rs.config()\n",
    "config.enable_device_from_file('/media/aya/Naomi-external/mice_data/20231103_155523.bag')\n",
    "\n",
    "# Start the pipeline\n",
    "pipeline.start(config)\n",
    "\n",
    "# Function to track mice\n",
    "def track_mice():\n",
    "    try:\n",
    "        while True:\n",
    "            frames = pipeline.wait_for_frames()\n",
    "            depth_frame = frames.get_depth_frame()\n",
    "            if not depth_frame:\n",
    "                continue\n",
    "            \n",
    "            depth_image = np.asanyarray(depth_frame.get_data())\n",
    "            \n",
    "#             # Preprocess the depth image\n",
    "#             preprocessed_image = preprocess_depth_image(depth_image)\n",
    "            \n",
    "            # Detect and track mice in the preprocessed image\n",
    "            mice_segments = detect_mice(preprocessed_image)\n",
    "            \n",
    "            # Track the segmented mice across frames\n",
    "            mice_tracks = track_segments_across_frames(mice_segments)\n",
    "            \n",
    "            # Display the tracking result\n",
    "            display_tracking_result(mice_tracks)\n",
    "            \n",
    "            # Optionally, break out of the loop if you only want to process a single frame\n",
    "            # break\n",
    "\n",
    "    finally:\n",
    "        # Stop the pipeline\n",
    "        pipeline.stop()\n",
    "\n",
    "# Start tracking\n",
    "track_mice()\n"
   ]
  },
  {
   "cell_type": "code",
   "execution_count": null,
   "id": "426cbd1e",
   "metadata": {},
   "outputs": [],
   "source": []
  }
 ],
 "metadata": {
  "kernelspec": {
   "display_name": "Python 3 (ipykernel)",
   "language": "python",
   "name": "python3"
  },
  "language_info": {
   "codemirror_mode": {
    "name": "ipython",
    "version": 3
   },
   "file_extension": ".py",
   "mimetype": "text/x-python",
   "name": "python",
   "nbconvert_exporter": "python",
   "pygments_lexer": "ipython3",
   "version": "3.11.5"
  }
 },
 "nbformat": 4,
 "nbformat_minor": 5
}
